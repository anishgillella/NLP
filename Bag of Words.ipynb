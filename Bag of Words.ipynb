{
 "cells": [
  {
   "cell_type": "markdown",
   "metadata": {},
   "source": [
    "We need to convert the text data into numerical format known as vectors.\n",
    "- in most cases, first we lowercase the complete sentence for uniformity\n",
    "- Then apply stemming or lemmatization by applying stop keywords.\n",
    "- Then with the remaining of keywords, we find the frequency of words and convert the features (remaining words) into vectors. "
   ]
  },
  {
   "cell_type": "markdown",
   "metadata": {},
   "source": [
    "The disadvantage of Bag of Words is that the semantic of words is same and we have difficulty of figuring out which words are important. In order to overcome this we have TFIDF - Term frequency and Inverse Documnet Frequency"
   ]
  },
  {
   "cell_type": "markdown",
   "metadata": {},
   "source": [
    "- The Bag of Words model gives you an idea about the most common words or terms in the text, which can be helpful in understanding the emphasis or the main topics discussed.\n",
    "\n",
    "- The Binary Bag of Words model focuses on the presence of words, which can be useful when you only care about whether certain words or topics are mentioned at all, regardless of frequency."
   ]
  },
  {
   "cell_type": "markdown",
   "metadata": {},
   "source": []
  },
  {
   "cell_type": "code",
   "execution_count": 5,
   "metadata": {},
   "outputs": [],
   "source": [
    "paragraph = \"\"\"While there were many significant events during my tenure, a question from a little girl Anukriti of Sri Sathya Sai Jagriti Vidya Mandir School, of Darwa village from Haryana, during children?s visit to Rashtrapati Bhavan on May 22, 2006, rings in my mind ever after.\n",
    "\n",
    "Anukriti asked me ?why India cannot become a developed nation before the year 2020?. I appreciated the question and said it was indeed a thoughtful question and assured her that that her dream would be taken to the highest institution of the nation and we would work for it to achieve before 2020. This question reflects how the desire to live in developed India has entered into the minds of the youth. The same feelings are echoed by over fifteen lakh youth, whom I have met so far and who represent the dream of the 540 million youth of the nation. The aspirations of the young to live in a prosperous, safe and proud India should be the guiding factor in whatever profession we contribute.\n",
    "\n",
    "Empower Villages\n",
    "\n",
    "Friends, I recall my visit to Nagaland on 26th October 2002, soon after my assuming office as President. It was a unique experience for me at Khuzama village to meet tribal village council members and discuss with them the village progress and the dream of village citizens. I was very happy to see the empowered village council functioning with financial powers and taking decisions. I saw a prosperous village with fruits and vegetables production. However, there is a need for providing physical connectivity in Nagaland through quality roads for enabling faster movement of products from villages to the market. That meeting gave me a powerful message about the transformation which can take place to the 600,000 villages of India, if all the villages are empowered to deal with their development and are well connected among themselves and with the urban societies.\n",
    "\n",
    "Mobilizing rural core competence for competitiveness\n",
    "\n",
    "Now I would like to talk about the initiative of Periyar Maniammai College of Technology for Women, Vallam, Tanjore of Providing Urban Amenities in Rural Areas (PURA) complex involving 65 villages with a population of 3 lakhs. This includes provision of three connectivities - physical, electronic and knowledge - leading to economic connectivity. Periyar PURA has health care centers, primary to post graduate level education and vocational training centers. This has resulted in large-scale employment generation and creation of number of entrepreneurs with the active support of 1000 self-help groups. Two hundred acres of waste land has been developed into a cultivable land. The villagers are busy in cultivation, planting Jatropha, herbal and medicinal plants, power generation using bio-mass, food processing and above all running marketing centers. It provides a sustainable economic development model for the whole region.\n",
    "\n",
    "During the last eight months, people of Periyar PURA villages technologically supported by Periyar Maniammai College of Engineering for Women have worked with experts from Japan External Trade Organisation (JETRO) on various products, for which core competence and raw material are available in Thanjavur district. They developed internationally competitive prototypes for 55 life style products with support of JETRO specialists and feedback from exhibitions at Delhi and Tokyo. This co-operative venture has enhanced the innovative ability of the people of all the 65 villages enabling them to develop and produce internationally acceptable products. I have seen similar type of PURA being established in many states. The whole country needs 7000 PURA to bridging the rural ? urban divide.\n",
    "\n",
    "Seed to Food: Backbone for agricultural growth\n",
    "\n",
    "Let me now share with you, the enriching experience I had, while meeting more than 6000 farmers from different States and Union Territories visiting Rashtrapati Bhavan. They evinced keen interest in the Mughal Gardens, the Herbal Gardens, the Spiritual Garden, the Musical Garden, the Bio-diesel garden and the Nutrition Garden and interact with the Horticultural specialists. Recently, during my address to the agricultural scientists while participating in a National Symposium on ?Agriculture Cannot Wait?, I summarized the many practical suggestions given by farmers. We have to double the agricultural production with reduced land, reduced water resources and reduced manpower and improve the economic conditions of the nation through the principle of ?Seed to Food? since agriculture is the backbone of the nation. We should empower the farmers to protect and nurture the fertile land for second green revolution. Meeting the Scientists and the Farmers has given me the confidence that the nation is poised to increase the agricultural GDP growth by atleast 4% per annum through the partnership of farmers and agricultural scientists and industries particularly for value addition.\n",
    "\n",
    "Defeat the problems and succeed\n",
    "\n",
    "On the evening of February 24, 2007, at Coimbatore, I had a very beautiful experience. As I got ready for meeting the first person out of twenty appointments, a wheel chair was in sight with a smiling person probably in his late fifties; unfortunately he has no hands and legs. His radiant face was revealing his happy state of mind. He introduced himself as Vidwan Coimbatore SR Krishna Murthy. I greeted him and asked him how this had happened. He smilingly said that it was from by birth. He thanked God, his parents, teachers and many others for giving him confidence, training and help. I asked him, what I could do for him? He said, ?I don?t need anything from you. I would like to sing in front of you?. I readily agreed. He sang melodiously the Saint Thyagraja?s pancha ratna kriti entharo mahanubavulu in Sriragam giving me a glimpse of his talent. I was quite touched. What is the message? Despite being physically challenged, the latent talent of music could blossom in this person with his positive attitude and perseverance, encouraged by the parents, teachers, academics and rasikas. Now he wants to give, give and give his art to inspire others. Of course, by his merit of music, in July 2007, he performed in the Rashtrapati Bhavan art theatre.\n",
    "\n",
    "Overcome the impact of disaster through partnership\n",
    "\n",
    "I had the opportunity to experience the Indomitable Spirit of the people and children of Jammu & Kashmir even as they were just recovering from the devastating earthquake in 2005. I visited Urusa village on 26th November 2005 which has been adopted by the Western Air Command, Air Force for providing relief and medical aid to the residents of that area. When I went there, I found that the school building had been severely damaged. I met all the school children and the village citizen of Urusa. The villagers apprised me of their losses and had all praise for Army and Air Force role in rescue and relief operations along with state government. I appreciate the courage of the people of Urusa in defeating their problems. They have actually become the master of the problem rather than allowing problems to become their master. Despite the severe loss due to the earthquake, the children and the members of the village participated in the relief operation with the Armed Forces bravely and were smiling when I went to meet them. They interacted with me and said that the school was functional in the temporary tents. Here, I also witnessed the participation of acting Chief Justice of Jammu & Kashmir along with State Government authorities in on-the-spot settlement of relief grants to be provided to the victims whose houses had been damaged in the earth quake. I have experienced many such acts of courage from our citizens when faced with severe challenges.\n",
    "\n",
    "\n",
    "\"\"\""
   ]
  },
  {
   "cell_type": "code",
   "execution_count": 1,
   "metadata": {},
   "outputs": [],
   "source": [
    "import nltk"
   ]
  },
  {
   "cell_type": "code",
   "execution_count": 4,
   "metadata": {},
   "outputs": [],
   "source": [
    "#Cleaning the texts\n",
    "import re\n",
    "from nltk.corpus import stopwords\n",
    "from nltk.stem import PorterStemmer\n",
    "from nltk.stem import WordNetLemmatizer"
   ]
  },
  {
   "cell_type": "code",
   "execution_count": 6,
   "metadata": {},
   "outputs": [],
   "source": [
    "ps = PorterStemmer()\n",
    "wordnet = WordNetLemmatizer()\n",
    "sentences = nltk.sent_tokenize(paragraph)"
   ]
  },
  {
   "cell_type": "code",
   "execution_count": 9,
   "metadata": {},
   "outputs": [],
   "source": [
    "corpus = []  # Initialize an empty list called 'corpus'. This will store the cleaned text.\n",
    "\n",
    "for i in range(len(sentences)):  # Loop through each sentence in the 'sentences' list.\n",
    "    review = re.sub('[^a-zA-Z]', ' ', sentences[i])  # Remove all characters that are not alphabets.\n",
    "    # This is done using a regular expression which replaces non-letters with spaces.\n",
    "\n",
    "    review = review.lower()  # Convert all characters in the 'review' to lowercase.\n",
    "    # This helps in maintaining uniformity and avoids duplicates like \"The\" and \"the\".\n",
    "\n",
    "    review = review.split()  # Split the 'review' string into individual words (tokens).\n",
    "    # This split is based on spaces by default, turning the string into a list of words.\n",
    "\n",
    "    # Apply stemming to words, removing stopwords:\n",
    "    review = [ps.stem(word) for word in review if word not in set(stopwords.words('english'))]\n",
    "    # Here, 'ps.stem(word)' applies stemming to each word, reducing it to its root form.\n",
    "    # 'if word not in set(stopwords.words('english'))' ensures that common, less informative words\n",
    "    # (like \"and\", \"is\", etc., known as stopwords) are removed.\n",
    "    # The list comprehension iterates over words that are not stopwords and applies stemming.\n",
    "\n",
    "    review = ' '.join(review)  # Join the list of cleaned words back into a single string.\n",
    "    # The words are joined with a space between them, forming a cleaned sentence.\n",
    "\n",
    "    corpus.append(review)  # Add the cleaned sentence to the 'corpus' list.\n",
    "    # The corpus thus contains all the processed sentences.\n"
   ]
  },
  {
   "cell_type": "code",
   "execution_count": 8,
   "metadata": {},
   "outputs": [
    {
     "data": {
      "text/plain": [
       "['mani signific event tenur question littl girl anukr sri sathya sai jagriti vidya mandir school darwa villag haryana children visit rashtrapati bhavan may ring mind ever',\n",
       " 'anukr ask india cannot becom develop nation year',\n",
       " 'appreci question said inde thought question assur dream would taken highest institut nation would work achiev',\n",
       " 'question reflect desir live develop india enter mind youth',\n",
       " 'feel echo fifteen lakh youth met far repres dream million youth nation',\n",
       " 'aspir young live prosper safe proud india guid factor whatev profess contribut',\n",
       " 'empow villag friend recal visit nagaland th octob soon assum offic presid',\n",
       " 'uniqu experi khuzama villag meet tribal villag council member discuss villag progress dream villag citizen',\n",
       " 'happi see empow villag council function financi power take decis',\n",
       " 'saw prosper villag fruit veget product',\n",
       " 'howev need provid physic connect nagaland qualiti road enabl faster movement product villag market',\n",
       " 'meet gave power messag transform take place villag india villag empow deal develop well connect among urban societi',\n",
       " 'mobil rural core compet competit would like talk initi periyar maniammai colleg technolog women vallam tanjor provid urban amen rural area pura complex involv villag popul lakh',\n",
       " 'includ provis three connect physic electron knowledg lead econom connect',\n",
       " 'periyar pura health care center primari post graduat level educ vocat train center',\n",
       " 'result larg scale employ gener creation number entrepreneur activ support self help group',\n",
       " 'two hundr acr wast land develop cultiv land',\n",
       " 'villag busi cultiv plant jatropha herbal medicin plant power gener use bio mass food process run market center',\n",
       " 'provid sustain econom develop model whole region',\n",
       " 'last eight month peopl periyar pura villag technolog support periyar maniammai colleg engin women work expert japan extern trade organis jetro variou product core compet raw materi avail thanjavur district',\n",
       " 'develop intern competit prototyp life style product support jetro specialist feedback exhibit delhi tokyo',\n",
       " 'co oper ventur enhanc innov abil peopl villag enabl develop produc intern accept product',\n",
       " 'seen similar type pura establish mani state',\n",
       " 'whole countri need pura bridg rural',\n",
       " 'urban divid',\n",
       " 'seed food backbon agricultur growth let share enrich experi meet farmer differ state union territori visit rashtrapati bhavan',\n",
       " 'evinc keen interest mughal garden herbal garden spiritu garden music garden bio diesel garden nutrit garden interact horticultur specialist',\n",
       " 'recent address agricultur scientist particip nation symposium agricultur cannot wait summar mani practic suggest given farmer',\n",
       " 'doubl agricultur product reduc land reduc water resourc reduc manpow improv econom condit nation principl seed food',\n",
       " 'sinc agricultur backbon nation',\n",
       " 'empow farmer protect nurtur fertil land second green revolut',\n",
       " 'meet scientist farmer given confid nation pois increas agricultur gdp growth atleast per annum partnership farmer agricultur scientist industri particularli valu addit',\n",
       " 'defeat problem succeed even februari coimbator beauti experi',\n",
       " 'got readi meet first person twenti appoint wheel chair sight smile person probabl late fifti unfortun hand leg',\n",
       " 'radiant face reveal happi state mind',\n",
       " 'introduc vidwan coimbator sr krishna murthi',\n",
       " 'greet ask happen',\n",
       " 'smilingli said birth',\n",
       " 'thank god parent teacher mani other give confid train help',\n",
       " 'ask could',\n",
       " 'said need anyth',\n",
       " 'would like sing front',\n",
       " 'readili agre',\n",
       " 'sang melodi saint thyagraja pancha ratna kriti entharo mahanubavulu sriragam give glimps talent',\n",
       " 'quit touch',\n",
       " 'messag',\n",
       " 'despit physic challeng latent talent music could blossom person posit attitud persever encourag parent teacher academ rasika',\n",
       " 'want give give give art inspir other',\n",
       " 'cours merit music juli perform rashtrapati bhavan art theatr',\n",
       " 'overcom impact disast partnership opportun experi indomit spirit peopl children jammu kashmir even recov devast earthquak',\n",
       " 'visit urusa villag th novemb adopt western air command air forc provid relief medic aid resid area',\n",
       " 'went found school build sever damag',\n",
       " 'met school children villag citizen urusa',\n",
       " 'villag appris loss prais armi air forc role rescu relief oper along state govern',\n",
       " 'appreci courag peopl urusa defeat problem',\n",
       " 'actual becom master problem rather allow problem becom master',\n",
       " 'despit sever loss due earthquak children member villag particip relief oper arm forc brave smile went meet',\n",
       " 'interact said school function temporari tent',\n",
       " 'also wit particip act chief justic jammu kashmir along state govern author spot settlement relief grant provid victim whose hous damag earth quak',\n",
       " 'experienc mani act courag citizen face sever challeng']"
      ]
     },
     "execution_count": 8,
     "metadata": {},
     "output_type": "execute_result"
    }
   ],
   "source": [
    "corpus"
   ]
  },
  {
   "cell_type": "code",
   "execution_count": 11,
   "metadata": {},
   "outputs": [],
   "source": [
    "corpus = []\n",
    "for i in range(len(sentences)):\n",
    "    review = re.sub('[^a-zA-Z]',' ',sentences[i])\n",
    "    review = review.lower()\n",
    "    review = review.split()\n",
    "    review = [wordnet.lemmatize(word) for word in review if word not in set(stopwords.words('english'))] \n",
    "    review = ' '.join(review)\n",
    "    corpus.append(review)\n",
    "\n"
   ]
  },
  {
   "cell_type": "code",
   "execution_count": 12,
   "metadata": {},
   "outputs": [
    {
     "data": {
      "text/plain": [
       "['many significant event tenure question little girl anukriti sri sathya sai jagriti vidya mandir school darwa village haryana child visit rashtrapati bhavan may ring mind ever',\n",
       " 'anukriti asked india cannot become developed nation year',\n",
       " 'appreciated question said indeed thoughtful question assured dream would taken highest institution nation would work achieve',\n",
       " 'question reflects desire live developed india entered mind youth',\n",
       " 'feeling echoed fifteen lakh youth met far represent dream million youth nation',\n",
       " 'aspiration young live prosperous safe proud india guiding factor whatever profession contribute',\n",
       " 'empower village friend recall visit nagaland th october soon assuming office president',\n",
       " 'unique experience khuzama village meet tribal village council member discus village progress dream village citizen',\n",
       " 'happy see empowered village council functioning financial power taking decision',\n",
       " 'saw prosperous village fruit vegetable production',\n",
       " 'however need providing physical connectivity nagaland quality road enabling faster movement product village market',\n",
       " 'meeting gave powerful message transformation take place village india village empowered deal development well connected among urban society',\n",
       " 'mobilizing rural core competence competitiveness would like talk initiative periyar maniammai college technology woman vallam tanjore providing urban amenity rural area pura complex involving village population lakh',\n",
       " 'includes provision three connectivity physical electronic knowledge leading economic connectivity',\n",
       " 'periyar pura health care center primary post graduate level education vocational training center',\n",
       " 'resulted large scale employment generation creation number entrepreneur active support self help group',\n",
       " 'two hundred acre waste land developed cultivable land',\n",
       " 'villager busy cultivation planting jatropha herbal medicinal plant power generation using bio mass food processing running marketing center',\n",
       " 'provides sustainable economic development model whole region',\n",
       " 'last eight month people periyar pura village technologically supported periyar maniammai college engineering woman worked expert japan external trade organisation jetro various product core competence raw material available thanjavur district',\n",
       " 'developed internationally competitive prototype life style product support jetro specialist feedback exhibition delhi tokyo',\n",
       " 'co operative venture enhanced innovative ability people village enabling develop produce internationally acceptable product',\n",
       " 'seen similar type pura established many state',\n",
       " 'whole country need pura bridging rural',\n",
       " 'urban divide',\n",
       " 'seed food backbone agricultural growth let share enriching experience meeting farmer different state union territory visiting rashtrapati bhavan',\n",
       " 'evinced keen interest mughal garden herbal garden spiritual garden musical garden bio diesel garden nutrition garden interact horticultural specialist',\n",
       " 'recently address agricultural scientist participating national symposium agriculture cannot wait summarized many practical suggestion given farmer',\n",
       " 'double agricultural production reduced land reduced water resource reduced manpower improve economic condition nation principle seed food',\n",
       " 'since agriculture backbone nation',\n",
       " 'empower farmer protect nurture fertile land second green revolution',\n",
       " 'meeting scientist farmer given confidence nation poised increase agricultural gdp growth atleast per annum partnership farmer agricultural scientist industry particularly value addition',\n",
       " 'defeat problem succeed evening february coimbatore beautiful experience',\n",
       " 'got ready meeting first person twenty appointment wheel chair sight smiling person probably late fifty unfortunately hand leg',\n",
       " 'radiant face revealing happy state mind',\n",
       " 'introduced vidwan coimbatore sr krishna murthy',\n",
       " 'greeted asked happened',\n",
       " 'smilingly said birth',\n",
       " 'thanked god parent teacher many others giving confidence training help',\n",
       " 'asked could',\n",
       " 'said need anything',\n",
       " 'would like sing front',\n",
       " 'readily agreed',\n",
       " 'sang melodiously saint thyagraja pancha ratna kriti entharo mahanubavulu sriragam giving glimpse talent',\n",
       " 'quite touched',\n",
       " 'message',\n",
       " 'despite physically challenged latent talent music could blossom person positive attitude perseverance encouraged parent teacher academic rasikas',\n",
       " 'want give give give art inspire others',\n",
       " 'course merit music july performed rashtrapati bhavan art theatre',\n",
       " 'overcome impact disaster partnership opportunity experience indomitable spirit people child jammu kashmir even recovering devastating earthquake',\n",
       " 'visited urusa village th november adopted western air command air force providing relief medical aid resident area',\n",
       " 'went found school building severely damaged',\n",
       " 'met school child village citizen urusa',\n",
       " 'villager apprised loss praise army air force role rescue relief operation along state government',\n",
       " 'appreciate courage people urusa defeating problem',\n",
       " 'actually become master problem rather allowing problem become master',\n",
       " 'despite severe loss due earthquake child member village participated relief operation armed force bravely smiling went meet',\n",
       " 'interacted said school functional temporary tent',\n",
       " 'also witnessed participation acting chief justice jammu kashmir along state government authority spot settlement relief grant provided victim whose house damaged earth quake',\n",
       " 'experienced many act courage citizen faced severe challenge']"
      ]
     },
     "execution_count": 12,
     "metadata": {},
     "output_type": "execute_result"
    }
   ],
   "source": [
    "corpus"
   ]
  },
  {
   "cell_type": "code",
   "execution_count": 13,
   "metadata": {},
   "outputs": [],
   "source": [
    "#Creating Bag of words model\n",
    "from sklearn.feature_extraction.text import CountVectorizer\n",
    "cv = CountVectorizer(max_features = 500)\n",
    "X = cv.fit_transform(corpus).toarray()"
   ]
  },
  {
   "cell_type": "code",
   "execution_count": 14,
   "metadata": {},
   "outputs": [
    {
     "data": {
      "text/plain": [
       "array([[0, 0, 0, ..., 0, 0, 0],\n",
       "       [0, 0, 0, ..., 1, 0, 0],\n",
       "       [0, 0, 0, ..., 0, 0, 0],\n",
       "       ...,\n",
       "       [0, 0, 0, ..., 0, 0, 0],\n",
       "       [0, 0, 0, ..., 0, 0, 0],\n",
       "       [0, 0, 0, ..., 0, 0, 0]], dtype=int64)"
      ]
     },
     "execution_count": 14,
     "metadata": {},
     "output_type": "execute_result"
    }
   ],
   "source": [
    "X"
   ]
  },
  {
   "cell_type": "code",
   "execution_count": null,
   "metadata": {},
   "outputs": [],
   "source": []
  }
 ],
 "metadata": {
  "kernelspec": {
   "display_name": "Python 3",
   "language": "python",
   "name": "python3"
  },
  "language_info": {
   "codemirror_mode": {
    "name": "ipython",
    "version": 3
   },
   "file_extension": ".py",
   "mimetype": "text/x-python",
   "name": "python",
   "nbconvert_exporter": "python",
   "pygments_lexer": "ipython3",
   "version": "3.11.4"
  }
 },
 "nbformat": 4,
 "nbformat_minor": 2
}
